{
 "cells": [
  {
   "cell_type": "markdown",
   "metadata": {},
   "source": [
    "# NLTK Getting Started \n",
    "\n",
    "## Student: Rodolfo Lerma"
   ]
  },
  {
   "cell_type": "markdown",
   "metadata": {},
   "source": [
    "Study Chapter 1 of the NLP Book:\n",
    "\n",
    "`Natural Language processing using Python\n",
    "Steven Bird, Ewan Klein and Edward Loper`\n",
    "\n",
    "Then answer the questions from these chapters as below.  Use NLTK and Py programming as needed. \n",
    "\n",
    "**CHAPTER 1: Getting Started with NLTK & Install Python and NLTK**"
   ]
  },
  {
   "cell_type": "code",
   "execution_count": 2,
   "metadata": {},
   "outputs": [],
   "source": [
    "import nltk\n",
    "import numpy as np\n",
    "import pandas as pd"
   ]
  },
  {
   "cell_type": "code",
   "execution_count": null,
   "metadata": {},
   "outputs": [],
   "source": [
    "from nltk.book import *\n",
    "#from nltk.corpus import stopwords\n",
    "#from nltk.stem import WordNetLemmatizer\n",
    "#nltk.download('wordnet')\n",
    "#nltk.download('stopwords')"
   ]
  },
  {
   "cell_type": "markdown",
   "metadata": {},
   "source": [
    "### 1) Following the example on Page 5-6, Pick a pair of words and compare their usage in two different texts, using the `similar()` and `common_contexts()` functions.  Explain your results."
   ]
  },
  {
   "cell_type": "code",
   "execution_count": null,
   "metadata": {},
   "outputs": [],
   "source": [
    "word_1 = 'monstrous'\n",
    "word_2 = 'affection'\n",
    "word_3 = 'lived'"
   ]
  },
  {
   "cell_type": "markdown",
   "metadata": {},
   "source": [
    "**Concordance** *permits us to see words in context*"
   ]
  },
  {
   "cell_type": "code",
   "execution_count": null,
   "metadata": {},
   "outputs": [],
   "source": [
    "text1.concordance(word_1)"
   ]
  },
  {
   "cell_type": "code",
   "execution_count": null,
   "metadata": {},
   "outputs": [],
   "source": [
    "text2.concordance(word_2)"
   ]
  },
  {
   "cell_type": "code",
   "execution_count": null,
   "metadata": {},
   "outputs": [],
   "source": [
    "text3.concordance(word_3)"
   ]
  },
  {
   "cell_type": "markdown",
   "metadata": {},
   "source": [
    "**Similar** *Words that appear in a similar range of context*"
   ]
  },
  {
   "cell_type": "code",
   "execution_count": null,
   "metadata": {},
   "outputs": [],
   "source": [
    "text1.similar(word_1)"
   ]
  },
  {
   "cell_type": "code",
   "execution_count": null,
   "metadata": {},
   "outputs": [],
   "source": [
    "text2.similar(word_2)"
   ]
  },
  {
   "cell_type": "code",
   "execution_count": null,
   "metadata": {},
   "outputs": [],
   "source": [
    "text3.similar(word_3)"
   ]
  },
  {
   "cell_type": "markdown",
   "metadata": {},
   "source": [
    "**Common_contexts** *allows us to examine just the contexts that are shared by 2 or more words*"
   ]
  },
  {
   "cell_type": "code",
   "execution_count": null,
   "metadata": {},
   "outputs": [],
   "source": [
    "text1.common_contexts([word_1, word_2])"
   ]
  },
  {
   "cell_type": "code",
   "execution_count": null,
   "metadata": {},
   "outputs": [],
   "source": [
    "text2.common_contexts([word_1, word_2])"
   ]
  },
  {
   "cell_type": "markdown",
   "metadata": {},
   "source": [
    "Yes, the use of words is highly contextual and therefore if the source data changes even if the words are pretty similar, they could have been used in a very different way and therefore yield a different result as they express different sentiments."
   ]
  },
  {
   "cell_type": "markdown",
   "metadata": {},
   "source": [
    "### 2) Find all the four-letter words in the Chat Corpus (*text5*). With the help of a frequency distribution (*FreqDist*), show these words in decreasing order of frequency. \n",
    "(*Question 22*)"
   ]
  },
  {
   "cell_type": "markdown",
   "metadata": {},
   "source": [
    "*To ensure different words are included and not the same with different capitalization levels, I will make them all lowercase letters*"
   ]
  },
  {
   "cell_type": "code",
   "execution_count": 4,
   "metadata": {},
   "outputs": [],
   "source": [
    "four_letter = FreqDist([x.lower() for x in text5 if len(x) == 4])\n",
    "nl = len(four_letter)\n",
    "print('Number of four-letter words: {}'.format(nl))"
   ]
  },
  {
   "cell_type": "code",
   "execution_count": null,
   "metadata": {},
   "outputs": [],
   "source": [
    "print(four_letter.most_common(100), end = '')"
   ]
  },
  {
   "cell_type": "markdown",
   "metadata": {},
   "source": [
    "### 3) Define a function called vocab_size(text) that has a single parameter for the text, and which returns the vocabulary size of the text. \n",
    "(*Question 27*)"
   ]
  },
  {
   "cell_type": "code",
   "execution_count": null,
   "metadata": {},
   "outputs": [],
   "source": [
    "def vocab_size(text):\n",
    "    x = len([y for y in text if y.isalpha() and y.lower not in (\"d\", \"ll\", \"m\", \"re\", \"s\", \"t\", \"ve\")])\n",
    "    return x"
   ]
  },
  {
   "cell_type": "code",
   "execution_count": null,
   "metadata": {},
   "outputs": [],
   "source": [
    "#Example:\n",
    "example = vocab_size(text1)\n",
    "print('The Vocabulary Size is: {}'.format(example))"
   ]
  },
  {
   "cell_type": "markdown",
   "metadata": {},
   "source": [
    "### 4) Define a function percent(word, text) that calculates how often a given word occurs in a text and expresses the result as a percentage.\n",
    "(*Question 28*)"
   ]
  },
  {
   "cell_type": "code",
   "execution_count": null,
   "metadata": {},
   "outputs": [],
   "source": [
    "def percent(word, text):\n",
    "    w_count = len([i for i in text if i.lower() == word.lower()])\n",
    "    total = len([y for y in text if y.isalpha() and y.lower not in (\"d\", \"ll\", \"m\", \"re\", \"s\", \"t\", \"ve\")])\n",
    "    percentage = 100 * w_count/total\n",
    "    return percentage"
   ]
  },
  {
   "cell_type": "code",
   "execution_count": null,
   "metadata": {},
   "outputs": [],
   "source": [
    "#Example:\n",
    "example = percent('join', text1)\n",
    "print('Percentage is: {}'.format(example))"
   ]
  }
 ],
 "metadata": {
  "kernelspec": {
   "display_name": "Python 3",
   "language": "python",
   "name": "python3"
  },
  "language_info": {
   "codemirror_mode": {
    "name": "ipython",
    "version": 3
   },
   "file_extension": ".py",
   "mimetype": "text/x-python",
   "name": "python",
   "nbconvert_exporter": "python",
   "pygments_lexer": "ipython3",
   "version": "3.7.3"
  }
 },
 "nbformat": 4,
 "nbformat_minor": 2
}
