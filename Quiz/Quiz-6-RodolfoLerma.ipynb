{
 "cells": [
  {
   "cell_type": "markdown",
   "metadata": {},
   "source": [
    "# Quiz 6 - NLTK Getting Started \n",
    "\n",
    "## Student: Rodolfo Lerma"
   ]
  },
  {
   "cell_type": "markdown",
   "metadata": {},
   "source": [
    "Study Chapter 1 of the NLP Book:\n",
    "\n",
    "`Natural Language processing using Python\n",
    "Steven Bird, Ewan Klein and Edward Loper`\n",
    "\n",
    "Then answer the questions from these chapters as below.  Use NLTK and Py programming as needed. \n",
    "\n",
    "**CHAPTER 1: Getting Started with NLTK & Install Python and NLTK**"
   ]
  },
  {
   "cell_type": "code",
   "execution_count": 1,
   "metadata": {},
   "outputs": [],
   "source": [
    "import nltk\n",
    "import numpy as np\n",
    "import pandas as pd"
   ]
  },
  {
   "cell_type": "code",
   "execution_count": 2,
   "metadata": {},
   "outputs": [],
   "source": [
    "# nltk.download()"
   ]
  },
  {
   "cell_type": "code",
   "execution_count": 3,
   "metadata": {},
   "outputs": [
    {
     "name": "stdout",
     "output_type": "stream",
     "text": [
      "*** Introductory Examples for the NLTK Book ***\n",
      "Loading text1, ..., text9 and sent1, ..., sent9\n",
      "Type the name of the text or sentence to view it.\n",
      "Type: 'texts()' or 'sents()' to list the materials.\n",
      "text1: Moby Dick by Herman Melville 1851\n",
      "text2: Sense and Sensibility by Jane Austen 1811\n",
      "text3: The Book of Genesis\n",
      "text4: Inaugural Address Corpus\n",
      "text5: Chat Corpus\n",
      "text6: Monty Python and the Holy Grail\n",
      "text7: Wall Street Journal\n",
      "text8: Personals Corpus\n",
      "text9: The Man Who Was Thursday by G . K . Chesterton 1908\n"
     ]
    }
   ],
   "source": [
    "from nltk.book import *"
   ]
  },
  {
   "cell_type": "markdown",
   "metadata": {},
   "source": [
    "## 1) Following the example on Page 5-6, Pick a pair of words and compare their usage in two different texts, using the `similar()` and `common_contexts()` functions.  Explain your results."
   ]
  },
  {
   "cell_type": "code",
   "execution_count": 4,
   "metadata": {},
   "outputs": [],
   "source": [
    "word_1 = 'suffering'\n",
    "word_2 = 'love'"
   ]
  },
  {
   "cell_type": "markdown",
   "metadata": {},
   "source": [
    "### `Concordance` *permits us to see words in context*"
   ]
  },
  {
   "cell_type": "code",
   "execution_count": 5,
   "metadata": {},
   "outputs": [
    {
     "name": "stdout",
     "output_type": "stream",
     "text": [
      "Displaying 5 of 5 matches:\n",
      "h and remorse for the long sin and suffering it had bred . Cape of Good Hope , \n",
      "l the anguish of that then present suffering was but the direct issue of a form\n",
      " ; and at last , after some days ' suffering , laid him in his hammock , close \n",
      "e the omniscient gods oblivious of suffering man ; and man , though idiotic , a\n",
      "earts , though summary in each one suffering ; still , if the gods decree it , \n"
     ]
    }
   ],
   "source": [
    "text1.concordance(word_1)"
   ]
  },
  {
   "cell_type": "code",
   "execution_count": 6,
   "metadata": {},
   "outputs": [
    {
     "name": "stdout",
     "output_type": "stream",
     "text": [
      "Displaying 25 of 77 matches:\n",
      "priety of going , and her own tender love for all her three children determine\n",
      "es .\" \" I believe you are right , my love ; it will be better that there shoul\n",
      " . It implies everything amiable . I love him already .\" \" I think you will li\n",
      "sentiment of approbation inferior to love .\" \" You may esteem him .\" \" I have \n",
      "n what it was to separate esteem and love .\" Mrs . Dashwood now took pains to \n",
      "oner did she perceive any symptom of love in his behaviour to Elinor , than sh\n",
      " how shall we do without her ?\" \" My love , it will be scarcely a separation .\n",
      "ise . Edward is very amiable , and I love him tenderly . But yet -- he is not \n",
      "ll never see a man whom I can really love . I require so much ! He must have a\n",
      "ry possible charm .\" \" Remember , my love , that you are not seventeen . It is\n",
      "f I do not now . When you tell me to love him as a brother , I shall no more s\n",
      "hat Colonel Brandon was very much in love with Marianne Dashwood . She rather \n",
      "e were ever animated enough to be in love , must have long outlived every sens\n",
      "hirty - five anything near enough to love , to make him a desirable companion \n",
      "roach would have been spared .\" \" My love ,\" said her mother , \" you must not \n",
      "pect that the misery of disappointed love had already been known to him . This\n",
      " most melancholy order of disastrous love . CHAPTER 12 As Elinor and Marianne \n",
      "hen she considered what Marianne ' s love for him was , a quarrel seemed almos\n",
      "ctory way ;-- but you , Elinor , who love to doubt where you can -- it will no\n",
      " man whom we have all such reason to love , and no reason in the world to thin\n",
      "ded as he must be of your sister ' s love , should leave her , and leave her p\n",
      "cannot think that . He must and does love her I am sure .\" \" But with a strang\n",
      " I believe not ,\" cried Elinor . \" I love Willoughby , sincerely love him ; an\n",
      "or . \" I love Willoughby , sincerely love him ; and suspicion of his integrity\n",
      "deed a man could not very well be in love with either of her daughters , witho\n"
     ]
    }
   ],
   "source": [
    "text2.concordance(word_2)"
   ]
  },
  {
   "cell_type": "markdown",
   "metadata": {},
   "source": [
    "### `Similar` *Words that appear in a similar range of context*"
   ]
  },
  {
   "cell_type": "markdown",
   "metadata": {},
   "source": [
    "#### Using `similar` on the same text."
   ]
  },
  {
   "cell_type": "code",
   "execution_count": 7,
   "metadata": {},
   "outputs": [
    {
     "name": "stdout",
     "output_type": "stream",
     "text": [
      "this by a the see now with take hand what that therefore every as said\n",
      "so give your who there\n"
     ]
    }
   ],
   "source": [
    "text1.similar(word_1)"
   ]
  },
  {
   "cell_type": "code",
   "execution_count": 8,
   "metadata": {},
   "outputs": [
    {
     "name": "stdout",
     "output_type": "stream",
     "text": [
      "affection sister heart mother time see town life it dear elinor\n",
      "marianne me word family her him do regard head\n"
     ]
    }
   ],
   "source": [
    "text2.similar(word_2)"
   ]
  },
  {
   "cell_type": "markdown",
   "metadata": {},
   "source": [
    "#### Using `similar` on the other text"
   ]
  },
  {
   "cell_type": "code",
   "execution_count": 9,
   "metadata": {},
   "outputs": [
    {
     "name": "stdout",
     "output_type": "stream",
     "text": [
      "sea man it ship by him hand them whale view ships land me life death\n",
      "water way head nature fear\n"
     ]
    }
   ],
   "source": [
    "text1.similar(word_2)"
   ]
  },
  {
   "cell_type": "code",
   "execution_count": 10,
   "metadata": {},
   "outputs": [
    {
     "name": "stdout",
     "output_type": "stream",
     "text": [
      "dashwood which what how still elinor poor if engagement another\n",
      "employment perfection go robert doting\n"
     ]
    }
   ],
   "source": [
    "text2.similar(word_1)"
   ]
  },
  {
   "cell_type": "markdown",
   "metadata": {},
   "source": [
    "### `Common_contexts` *allows us to examine just the contexts that are shared by 2 or more words*"
   ]
  },
  {
   "cell_type": "code",
   "execution_count": 11,
   "metadata": {},
   "outputs": [
    {
     "name": "stdout",
     "output_type": "stream",
     "text": [
      "No common contexts were found\n"
     ]
    }
   ],
   "source": [
    "text1.common_contexts([word_1, word_2])"
   ]
  },
  {
   "cell_type": "code",
   "execution_count": 12,
   "metadata": {},
   "outputs": [
    {
     "name": "stdout",
     "output_type": "stream",
     "text": [
      "No common contexts were found\n"
     ]
    }
   ],
   "source": [
    "text2.common_contexts([word_1, word_2])"
   ]
  },
  {
   "cell_type": "markdown",
   "metadata": {},
   "source": [
    "As mentioned before the use of words is highly contextual and therefore if the source data changes even if the words are pretty similar, they could have been used in a very different way and therefore yield a different result as they express different sentiments.\n",
    "\n",
    "In this analysis we used 2 words: `suffering` & `love`. It was possible to see that both words are used in both texts (`Moby Dick` & `Sense and Sensibility`), but also it is possible to see the similarity to other words in each particular text. Also it is possible to see that in both texts the references for each word does not use the same context.\n",
    "\n",
    "At the end we can see that there is no instances in both texts where the words `suffering` & `love` appear to share *context*."
   ]
  },
  {
   "cell_type": "markdown",
   "metadata": {},
   "source": [
    "### 2) Find all the four-letter words in the Chat Corpus (*text5*). With the help of a frequency distribution (*FreqDist*), show these words in decreasing order of frequency. \n",
    "(*Question 22*)"
   ]
  },
  {
   "cell_type": "markdown",
   "metadata": {},
   "source": [
    "*To ensure different words are included and not the same with different capitalization levels, I will make them all lowercase letters*"
   ]
  },
  {
   "cell_type": "markdown",
   "metadata": {},
   "source": [
    "text3: The Book of Genesis"
   ]
  },
  {
   "cell_type": "code",
   "execution_count": 13,
   "metadata": {},
   "outputs": [
    {
     "name": "stdout",
     "output_type": "stream",
     "text": [
      "Number of four-letter words: 430\n"
     ]
    }
   ],
   "source": [
    "four_letter = FreqDist([x.lower() for x in text3 if len(x) == 4])\n",
    "nl = len(four_letter)\n",
    "print('Number of four-letter words: {}'.format(nl))"
   ]
  },
  {
   "cell_type": "code",
   "execution_count": 14,
   "metadata": {},
   "outputs": [
    {
     "name": "stdout",
     "output_type": "stream",
     "text": [
      "[('unto', 598), ('that', 520), ('said', 477), ('with', 293), ('thou', 284), ('thee', 257), ('they', 255), ('them', 230), ('lord', 207), ('will', 195), ('land', 184), ('came', 177), ('were', 163), ('from', 158), ('this', 145), ('sons', 142), ('upon', 140), ('have', 134), ('when', 120), ('went', 110), ('wife', 104), ('name', 100), ('into', 86), ('also', 83), ('your', 82), ('hand', 82), ('pass', 82), ('took', 81), ('hath', 80), ('come', 75), ('esau', 74), ('made', 72), ('then', 71), ('give', 67), ('days', 61), ('down', 59), ('seed', 58), ('hast', 56), ('bare', 56), ('take', 53), ('over', 49), ('well', 49), ('make', 48), ('gave', 48), ('pray', 48), ('face', 47), ('what', 46), ('good', 44), ('sent', 44), ('city', 41), ('noah', 41), ('eyes', 37), ('away', 37), ('done', 36), ('told', 34), ('born', 33), ('died', 33), ('leah', 33), ('king', 32), ('duke', 32), ('life', 31), ('both', 30), ('even', 30), ('left', 26), ('whom', 25), ('time', 25), ('know', 24), ('near', 24), ('same', 22), ('five', 22), ('tent', 22), ('tree', 21), ('more', 21), ('rose', 21), ('thus', 19), ('food', 19), ('very', 18), ('adam', 18), ('tell', 18), ('here', 18), ('lest', 17), ('knew', 17), ('corn', 17), ('fowl', 16), ('evil', 16), ('head', 16), ('cain', 16), ('wilt', 16), ('send', 16), ('than', 15), ('only', 15), ('bury', 15), ('shem', 14), ('fear', 14), ('mine', 14), ('wept', 14), ('kind', 13), ('soul', 13), ('keep', 13), ('bear', 13)]"
     ]
    }
   ],
   "source": [
    "print(four_letter.most_common(100), end = '')"
   ]
  },
  {
   "cell_type": "markdown",
   "metadata": {},
   "source": [
    "### 3) Define a function called vocab_size(text) that has a single parameter for the text, and which returns the vocabulary size of the text. \n",
    "(*Question 27*)"
   ]
  },
  {
   "cell_type": "code",
   "execution_count": 15,
   "metadata": {},
   "outputs": [],
   "source": [
    "def vocab_size(text):\n",
    "    x = len([y for y in text if y.isalpha() and y.lower not in (\"d\", \"ll\", \"m\", \"re\", \"s\", \"t\", \"ve\")])\n",
    "    return x"
   ]
  },
  {
   "cell_type": "code",
   "execution_count": 16,
   "metadata": {},
   "outputs": [
    {
     "name": "stdout",
     "output_type": "stream",
     "text": [
      "The Vocabulary Size is: 38495\n"
     ]
    }
   ],
   "source": [
    "#Example:\n",
    "example = vocab_size(text3)\n",
    "print('The Vocabulary Size is: {}'.format(example))"
   ]
  },
  {
   "cell_type": "markdown",
   "metadata": {},
   "source": [
    "### 4) Define a function percent(word, text) that calculates how often a given word occurs in a text and expresses the result as a percentage.\n",
    "(*Question 28*)"
   ]
  },
  {
   "cell_type": "code",
   "execution_count": 17,
   "metadata": {},
   "outputs": [],
   "source": [
    "def percent(word, text):\n",
    "    w_count = len([i for i in text if i.lower() == word.lower()])\n",
    "    total = len([y for y in text if y.isalpha() and y.lower not in (\"d\", \"ll\", \"m\", \"re\", \"s\", \"t\", \"ve\")])\n",
    "    percentage = 100 * w_count/total\n",
    "    return percentage"
   ]
  },
  {
   "cell_type": "code",
   "execution_count": 18,
   "metadata": {},
   "outputs": [
    {
     "name": "stdout",
     "output_type": "stream",
     "text": [
      "Percentage is: 0.53773\n"
     ]
    }
   ],
   "source": [
    "#Example:\n",
    "example = percent('lord', text3)\n",
    "print('Percentage is: {}'.format(round(example,5)))"
   ]
  },
  {
   "cell_type": "markdown",
   "metadata": {},
   "source": [
    "We can see that the word `lord`, which is the english version of the hebrew word `ADONAI`, which is in turn the way the ancient hebrew people masked the name of the God of the Bible: `YAHWEH`, is seen 0.5% percent of the time. Meaning 1 time every 200 words! Which at the same time makes sense given the topic of this book."
   ]
  }
 ],
 "metadata": {
  "kernelspec": {
   "display_name": "Python 3",
   "language": "python",
   "name": "python3"
  },
  "language_info": {
   "codemirror_mode": {
    "name": "ipython",
    "version": 3
   },
   "file_extension": ".py",
   "mimetype": "text/x-python",
   "name": "python",
   "nbconvert_exporter": "python",
   "pygments_lexer": "ipython3",
   "version": "3.8.8"
  }
 },
 "nbformat": 4,
 "nbformat_minor": 2
}
