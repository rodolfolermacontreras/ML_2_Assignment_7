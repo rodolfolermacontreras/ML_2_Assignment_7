{
 "cells": [
  {
   "cell_type": "markdown",
   "metadata": {},
   "source": [
    "# Quiz 7 - Zipf's Law Application \n",
    "\n",
    "## Student: Rodolfo Lerma"
   ]
  },
  {
   "cell_type": "markdown",
   "metadata": {},
   "source": [
    "Study Manning Chapter 1.\n",
    "\n",
    "Use the Brown corpus to create the graph based on English, representing Zipf's Law. \n",
    "To download the `Brown Corpus`. In Python, do:\n",
    "\n",
    "- **import nltk**\n",
    "- **nltk.download()**\n",
    "\n",
    "This brings up a window (GUI) with tabs at the top.  Select the tab labeled `Corpora` and select `Brown` and click the download button at the bottom of the window.\n",
    "\n",
    "- *What type of words are the most frequent?*\n",
    "- *Discuss about what Zipf’s Law really tells us about the frequency distribution of words.*"
   ]
  },
  {
   "cell_type": "code",
   "execution_count": 6,
   "metadata": {},
   "outputs": [],
   "source": [
    "import nltk\n",
    "import numpy as np\n",
    "import pandas as pd\n",
    "from nltk.corpus import brown"
   ]
  },
  {
   "cell_type": "code",
   "execution_count": 13,
   "metadata": {},
   "outputs": [],
   "source": [
    "browncorpuswords = brown.words()"
   ]
  },
  {
   "cell_type": "markdown",
   "metadata": {},
   "source": [
    "### 1) What type of words are the most frequent? "
   ]
  },
  {
   "cell_type": "markdown",
   "metadata": {},
   "source": [
    "**Without removing any stop words**"
   ]
  },
  {
   "cell_type": "code",
   "execution_count": 15,
   "metadata": {},
   "outputs": [],
   "source": [
    "freqwords = FreqDist([i.lower() for i in browncorpuswords])"
   ]
  },
  {
   "cell_type": "code",
   "execution_count": 16,
   "metadata": {},
   "outputs": [
    {
     "name": "stdout",
     "output_type": "stream",
     "text": [
      "[('the', 69971), (',', 58334), ('.', 49346), ('of', 36412), ('and', 28853), ('to', 26158), ('a', 23195), ('in', 21337), ('that', 10594), ('is', 10109), ('was', 9815), ('he', 9548), ('for', 9489), ('``', 8837), (\"''\", 8789), ('it', 8760), ('with', 7289), ('as', 7253), ('his', 6996), ('on', 6741), ('be', 6377), (';', 5566), ('at', 5372), ('by', 5306), ('i', 5164), ('this', 5145), ('had', 5133), ('?', 4693), ('not', 4610), ('are', 4394), ('but', 4381), ('from', 4370), ('or', 4206), ('have', 3942), ('an', 3740), ('they', 3620), ('which', 3561), ('--', 3432), ('one', 3292), ('you', 3286), ('were', 3284), ('her', 3036), ('all', 3001), ('she', 2860), ('there', 2728), ('would', 2714), ('their', 2669), ('we', 2652), ('him', 2619), ('been', 2472), (')', 2466), ('has', 2437), ('(', 2435), ('when', 2331), ('who', 2252), ('will', 2245), ('more', 2215), ('if', 2198), ('no', 2139), ('out', 2097), ('so', 1985), ('said', 1961), ('what', 1908), ('up', 1890), ('its', 1858), ('about', 1815), (':', 1795), ('into', 1791), ('than', 1790), ('them', 1788), ('can', 1772), ('only', 1748), ('other', 1702), ('new', 1635), ('some', 1618), ('could', 1601), ('time', 1598), ('!', 1596), ('these', 1573), ('two', 1412), ('may', 1402), ('then', 1380), ('do', 1363), ('first', 1361), ('any', 1344), ('my', 1318), ('now', 1314), ('such', 1303), ('like', 1292), ('our', 1252), ('over', 1236), ('man', 1207), ('me', 1181), ('even', 1170), ('most', 1159), ('made', 1125), ('also', 1069), ('after', 1069), ('did', 1044), ('many', 1030)]"
     ]
    }
   ],
   "source": [
    "print(freqwords.most_common(100), end = '')"
   ]
  },
  {
   "cell_type": "markdown",
   "metadata": {},
   "source": [
    "As we can see in list above the most frequent words in this corpus are small words known as `function words`. Such as words are: determiners, preposition and complementizers, which have important grammatical roles."
   ]
  },
  {
   "cell_type": "code",
   "execution_count": 17,
   "metadata": {},
   "outputs": [],
   "source": [
    "y = freqwords.most_common(10)"
   ]
  },
  {
   "cell_type": "code",
   "execution_count": 24,
   "metadata": {},
   "outputs": [
    {
     "ename": "AttributeError",
     "evalue": "'list' object has no attribute 'plot'",
     "output_type": "error",
     "traceback": [
      "\u001b[1;31m---------------------------------------------------------------------------\u001b[0m",
      "\u001b[1;31mAttributeError\u001b[0m                            Traceback (most recent call last)",
      "\u001b[1;32m<ipython-input-24-dab62baa84c0>\u001b[0m in \u001b[0;36m<module>\u001b[1;34m\u001b[0m\n\u001b[1;32m----> 1\u001b[1;33m \u001b[0my\u001b[0m\u001b[1;33m.\u001b[0m\u001b[0mplot\u001b[0m\u001b[1;33m(\u001b[0m\u001b[1;33m)\u001b[0m\u001b[1;33m\u001b[0m\u001b[1;33m\u001b[0m\u001b[0m\n\u001b[0m",
      "\u001b[1;31mAttributeError\u001b[0m: 'list' object has no attribute 'plot'"
     ]
    }
   ],
   "source": [
    "y.plot()"
   ]
  },
  {
   "cell_type": "markdown",
   "metadata": {},
   "source": [
    "### 2) Discuss about what Zipf’s Law really tells us about the frequency distribution of words."
   ]
  },
  {
   "cell_type": "code",
   "execution_count": null,
   "metadata": {},
   "outputs": [],
   "source": []
  },
  {
   "cell_type": "code",
   "execution_count": null,
   "metadata": {},
   "outputs": [],
   "source": []
  }
 ],
 "metadata": {
  "kernelspec": {
   "display_name": "Python 3",
   "language": "python",
   "name": "python3"
  },
  "language_info": {
   "codemirror_mode": {
    "name": "ipython",
    "version": 3
   },
   "file_extension": ".py",
   "mimetype": "text/x-python",
   "name": "python",
   "nbconvert_exporter": "python",
   "pygments_lexer": "ipython3",
   "version": "3.8.8"
  }
 },
 "nbformat": 4,
 "nbformat_minor": 2
}
