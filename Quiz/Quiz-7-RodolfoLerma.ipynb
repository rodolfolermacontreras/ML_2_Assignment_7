{
 "cells": [
  {
   "cell_type": "markdown",
   "metadata": {},
   "source": [
    "# Quiz 7 - Zipf's Law Application \n",
    "\n",
    "## Student: Rodolfo Lerma"
   ]
  },
  {
   "cell_type": "markdown",
   "metadata": {},
   "source": [
    "Study Manning Chapter 1.\n",
    "\n",
    "Use the Brown corpus to create the graph based on English, representing Zipf's Law. \n",
    "To download the `Brown Corpus`. In Python, do:\n",
    "\n",
    "- **import nltk**\n",
    "- **nltk.download()**\n",
    "\n",
    "This brings up a window (GUI) with tabs at the top.  Select the tab labeled `Corpora` and select `Brown` and click the download button at the bottom of the window.\n",
    "\n",
    "- *What type of words are the most frequent?*\n",
    "- *Discuss about what Zipf’s Law really tells us about the frequency distribution of words.*"
   ]
  },
  {
   "cell_type": "code",
   "execution_count": 4,
   "metadata": {},
   "outputs": [
    {
     "name": "stdout",
     "output_type": "stream",
     "text": [
      "*** Introductory Examples for the NLTK Book ***\n",
      "Loading text1, ..., text9 and sent1, ..., sent9\n",
      "Type the name of the text or sentence to view it.\n",
      "Type: 'texts()' or 'sents()' to list the materials.\n",
      "text1: Moby Dick by Herman Melville 1851\n",
      "text2: Sense and Sensibility by Jane Austen 1811\n",
      "text3: The Book of Genesis\n",
      "text4: Inaugural Address Corpus\n",
      "text5: Chat Corpus\n",
      "text6: Monty Python and the Holy Grail\n",
      "text7: Wall Street Journal\n",
      "text8: Personals Corpus\n",
      "text9: The Man Who Was Thursday by G . K . Chesterton 1908\n"
     ]
    }
   ],
   "source": [
    "import nltk\n",
    "import numpy as np\n",
    "import pandas as pd\n",
    "from nltk.corpus import brown\n",
    "from nltk.book import *"
   ]
  },
  {
   "cell_type": "code",
   "execution_count": 2,
   "metadata": {},
   "outputs": [],
   "source": [
    "browncorpuswords = brown.words()"
   ]
  },
  {
   "cell_type": "markdown",
   "metadata": {},
   "source": [
    "### 1) What type of words are the most frequent? "
   ]
  },
  {
   "cell_type": "markdown",
   "metadata": {},
   "source": [
    "**Without removing any stop words**"
   ]
  },
  {
   "cell_type": "code",
   "execution_count": 5,
   "metadata": {},
   "outputs": [],
   "source": [
    "freqwords = FreqDist([i.lower() for i in browncorpuswords if i.isalpha()]) #Remove puntuation"
   ]
  },
  {
   "cell_type": "code",
   "execution_count": 6,
   "metadata": {},
   "outputs": [
    {
     "name": "stdout",
     "output_type": "stream",
     "text": [
      "[('the', 69971), ('of', 36412), ('and', 28853), ('to', 26158), ('a', 23195), ('in', 21337), ('that', 10594), ('is', 10109), ('was', 9815), ('he', 9548), ('for', 9489), ('it', 8760), ('with', 7289), ('as', 7253), ('his', 6996), ('on', 6741), ('be', 6377), ('at', 5372), ('by', 5306), ('i', 5164), ('this', 5145), ('had', 5133), ('not', 4610), ('are', 4394), ('but', 4381), ('from', 4370), ('or', 4206), ('have', 3942), ('an', 3740), ('they', 3620), ('which', 3561), ('one', 3292), ('you', 3286), ('were', 3284), ('her', 3036), ('all', 3001), ('she', 2860), ('there', 2728), ('would', 2714), ('their', 2669), ('we', 2652), ('him', 2619), ('been', 2472), ('has', 2437), ('when', 2331), ('who', 2252), ('will', 2245), ('more', 2215), ('if', 2198), ('no', 2139), ('out', 2097), ('so', 1985), ('said', 1961), ('what', 1908), ('up', 1890), ('its', 1858), ('about', 1815), ('into', 1791), ('than', 1790), ('them', 1788), ('can', 1772), ('only', 1748), ('other', 1702), ('new', 1635), ('some', 1618), ('could', 1601), ('time', 1598), ('these', 1573), ('two', 1412), ('may', 1402), ('then', 1380), ('do', 1363), ('first', 1361), ('any', 1344), ('my', 1318), ('now', 1314), ('such', 1303), ('like', 1292), ('our', 1252), ('over', 1236), ('man', 1207), ('me', 1181), ('even', 1170), ('most', 1159), ('made', 1125), ('also', 1069), ('after', 1069), ('did', 1044), ('many', 1030), ('before', 1016), ('must', 1013), ('af', 996), ('through', 971), ('back', 966), ('years', 950), ('where', 937), ('much', 937), ('your', 923), ('way', 908), ('well', 897)]"
     ]
    }
   ],
   "source": [
    "print(freqwords.most_common(100), end = '')"
   ]
  },
  {
   "cell_type": "markdown",
   "metadata": {},
   "source": [
    "As we can see in list above the most frequent words in this corpus are small words known as `function words`. Such as words are: determiners, preposition and complementizers, which have important grammatical roles."
   ]
  },
  {
   "cell_type": "code",
   "execution_count": 37,
   "metadata": {},
   "outputs": [],
   "source": [
    "y = freqwords.most_common(500)"
   ]
  },
  {
   "cell_type": "code",
   "execution_count": 38,
   "metadata": {},
   "outputs": [],
   "source": [
    "words = []\n",
    "frequency = []\n",
    "rank = []\n",
    "constants = []\n",
    "for i in y:\n",
    "    words.append(i[0])\n",
    "    frequency.append(i[1])\n",
    "\n",
    "for i in range(len(y)):\n",
    "    rank.append(i+1)\n",
    "    constants.append(frequency[i]*(i+1))"
   ]
  },
  {
   "cell_type": "code",
   "execution_count": 39,
   "metadata": {},
   "outputs": [
    {
     "data": {
      "image/png": "[encoded data removed]",
      "text/plain": [
       "<Figure size 432x288 with 1 Axes>"
      ]
     },
     "metadata": {
      "needs_background": "light"
     },
     "output_type": "display_data"
    }
   ],
   "source": [
    "import matplotlib.pyplot as plt\n",
    "plt.scatter(rank, frequency)\n",
    "plt.title('Frequency of Words')\n",
    "plt.xlabel(\"Rank\")\n",
    "plt.ylabel(\"Frequency\")\n",
    "plt.grid()\n",
    "plt.show()"
   ]
  },
  {
   "cell_type": "code",
   "execution_count": 40,
   "metadata": {},
   "outputs": [
    {
     "data": {
      "image/png": "[encoded data removed]",
      "text/plain": [
       "<Figure size 432x288 with 1 Axes>"
      ]
     },
     "metadata": {
      "needs_background": "light"
     },
     "output_type": "display_data"
    }
   ],
   "source": [
    "plt.scatter(rank, constants)\n",
    "plt.title('Zipfs Law')\n",
    "plt.xlabel(\"Rank\")\n",
    "plt.ylabel(\"Constant\")\n",
    "plt.grid()\n",
    "plt.show()"
   ]
  },
  {
   "cell_type": "markdown",
   "metadata": {},
   "source": [
    "### 2) Discuss about what Zipf’s Law really tells us about the frequency distribution of words."
   ]
  },
  {
   "cell_type": "markdown",
   "metadata": {},
   "source": [
    "This is a very interesting empirical observation, which comes from the initial argument present in Zipf's book: `Behavior and the Principle of Least Effort`. In this Zipf's argues that people will act so that they can minimize their average rate of work (in every field). \n",
    "\n",
    "According with this idea/argument both the speaker and the listener try to minimize their efforts during the communication process, but this is done in different ways. By the speaker this is done by the repetition of common words during the any dialog (being verbal or in writing). By doing this (having a small vocabulary of common words) the speaker's effort is conserved. On the other hand the minimization of the listener efforts is accomplish by having a large vocabulary of individual words, in a way that the message is clear and any ambiguity is remove.\n",
    "\n",
    "To optimize this compromise between the speaker and the listener Zipf argues that a reciprocal relationship between the frequency of a word and its rank (from higher to lower) emerges, which is what is known as the Zipf's law.\n",
    "\n",
    "`Zipf's Law`: The rank of the word times its probability (frequency) is approximately a constant.\n",
    "\n",
    "Another Law that Zipf's included in his book is that the number of meanings for a particular word is proportional to the Frequency of that word present in a corpus of text.\n",
    "\n",
    "As mentioned before this empirical observations are very interesting not only because there is no clear understanding on why this works (besides the empirical examples), but also as it reveals this compromise that exists between the communicator and the listener and the balance that is established. \n",
    "\n",
    "As it is possible to see in the example above using the `Brown corpus`, the frequency of a word times its rank usually yield a constant number. Therefore if that constant number is known for a text (or an approximation) and an estimation of the rank of a word is given the frequency of such word can be calculated by dividing such constant over the estimated rank."
   ]
  }
 ],
 "metadata": {
  "kernelspec": {
   "display_name": "Python 3",
   "language": "python",
   "name": "python3"
  },
  "language_info": {
   "codemirror_mode": {
    "name": "ipython",
    "version": 3
   },
   "file_extension": ".py",
   "mimetype": "text/x-python",
   "name": "python",
   "nbconvert_exporter": "python",
   "pygments_lexer": "ipython3",
   "version": "3.8.8"
  }
 },
 "nbformat": 4,
 "nbformat_minor": 2
}
